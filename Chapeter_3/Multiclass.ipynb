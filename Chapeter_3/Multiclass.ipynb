{
 "cells": [
  {
   "cell_type": "code",
   "execution_count": 17,
   "metadata": {},
   "outputs": [],
   "source": [
    "import pandas as pd\n",
    "from keras import layers\n",
    "from keras.datasets import reuters"
   ]
  },
  {
   "cell_type": "code",
   "execution_count": 18,
   "metadata": {},
   "outputs": [
    {
     "name": "stderr",
     "output_type": "stream",
     "text": [
      "C:\\Users\\hp\\anaconda3\\lib\\site-packages\\tensorflow\\python\\keras\\datasets\\reuters.py:148: VisibleDeprecationWarning: Creating an ndarray from ragged nested sequences (which is a list-or-tuple of lists-or-tuples-or ndarrays with different lengths or shapes) is deprecated. If you meant to do this, you must specify 'dtype=object' when creating the ndarray\n",
      "  x_train, y_train = np.array(xs[:idx]), np.array(labels[:idx])\n",
      "C:\\Users\\hp\\anaconda3\\lib\\site-packages\\tensorflow\\python\\keras\\datasets\\reuters.py:149: VisibleDeprecationWarning: Creating an ndarray from ragged nested sequences (which is a list-or-tuple of lists-or-tuples-or ndarrays with different lengths or shapes) is deprecated. If you meant to do this, you must specify 'dtype=object' when creating the ndarray\n",
      "  x_test, y_test = np.array(xs[idx:]), np.array(labels[idx:])\n"
     ]
    }
   ],
   "source": [
    "(train_data, train_label), (test_data, test_label) = reuters.load_data(num_words=10000)"
   ]
  },
  {
   "cell_type": "code",
   "execution_count": 19,
   "metadata": {},
   "outputs": [
    {
     "data": {
      "text/plain": [
       "8982"
      ]
     },
     "execution_count": 19,
     "metadata": {},
     "output_type": "execute_result"
    }
   ],
   "source": [
    "len(train_data)"
   ]
  },
  {
   "cell_type": "code",
   "execution_count": 20,
   "metadata": {},
   "outputs": [
    {
     "data": {
      "text/plain": [
       "2246"
      ]
     },
     "execution_count": 20,
     "metadata": {},
     "output_type": "execute_result"
    }
   ],
   "source": [
    "len(test_data)"
   ]
  },
  {
   "cell_type": "code",
   "execution_count": 21,
   "metadata": {},
   "outputs": [
    {
     "name": "stdout",
     "output_type": "stream",
     "text": [
      "? period ended december 31 shr profit 11 cts vs loss 24 cts net profit 224 271 vs loss 511 349 revs 7 258 688 vs 7 200 349 reuter 3\n"
     ]
    }
   ],
   "source": [
    "#let us decode the data \n",
    "word_index = reuters.get_word_index()\n",
    "reserved_word_index = dict([(value,key) for  (key, value) in word_index.items()])\n",
    "decoded_newswire = \" \".join([reserved_word_index.get(i-3,'?') for i in train_data[10]])#we take i-3 because 0,1,2 is reserverd for padding and . ,\n",
    "print(decoded_newswire)"
   ]
  },
  {
   "cell_type": "code",
   "execution_count": 104,
   "metadata": {},
   "outputs": [
    {
     "data": {
      "text/plain": [
       "3"
      ]
     },
     "execution_count": 104,
     "metadata": {},
     "output_type": "execute_result"
    }
   ],
   "source": [
    "train_label[10] # we have 46 clases so the labels are from 0-45"
   ]
  },
  {
   "cell_type": "code",
   "execution_count": 105,
   "metadata": {},
   "outputs": [],
   "source": [
    "import numpy as np"
   ]
  },
  {
   "cell_type": "code",
   "execution_count": 107,
   "metadata": {},
   "outputs": [],
   "source": [
    "def vec_seq(sequences, dimension=10000):\n",
    "    results = np.zeros((len(sequences),dimension))\n",
    "    for i , sequence in enumerate(sequences):\n",
    "        results[i , sequence] = 1.\n",
    "    return results\n",
    "\n",
    "x_train  = vec_seq(train_data)\n",
    "x_test = vec_seq(test_data)"
   ]
  },
  {
   "cell_type": "code",
   "execution_count": 120,
   "metadata": {},
   "outputs": [],
   "source": [
    "def one_hot(labels, dimension=46):\n",
    "    results = np.zeros((len(labels),dimension))\n",
    "    for i , label in enumerate(labels):\n",
    "        results[i , label] = 1.\n",
    "    return results\n",
    "\n",
    "one_hot_train_labels = one_hot(train_label)\n",
    "one_hot_test_labels = one_hot(test_label)"
   ]
  },
  {
   "cell_type": "code",
   "execution_count": 121,
   "metadata": {},
   "outputs": [],
   "source": [
    "from keras import models\n",
    "from keras import layers\n",
    "\n",
    "model = models.Sequential()\n",
    "model.add(layers.Dense(64, activation='relu', input_shape=(10000,)))\n",
    "model.add(layers.Dense(64, activation='relu'))\n",
    "model.add(layers.Dense(46, activation='softmax'))"
   ]
  },
  {
   "cell_type": "code",
   "execution_count": 126,
   "metadata": {},
   "outputs": [],
   "source": [
    "model.compile(optimizer='rmsprop',loss='categorical_crossentropy', metrics=['accuracy'])"
   ]
  },
  {
   "cell_type": "code",
   "execution_count": 127,
   "metadata": {},
   "outputs": [],
   "source": [
    "x_val = x_train[:1000]\n",
    "partial_x_train = x_train[1000:]\n",
    "\n",
    "y_val = one_hot_train_labels[:1000]\n",
    "partial_y_train = one_hot_train_labels[1000:]\n"
   ]
  },
  {
   "cell_type": "code",
   "execution_count": 130,
   "metadata": {},
   "outputs": [
    {
     "name": "stdout",
     "output_type": "stream",
     "text": [
      "Epoch 1/20\n",
      "16/16 [==============================] - 0s 27ms/step - loss: 0.1092 - accuracy: 0.9589 - val_loss: 1.0647 - val_accuracy: 0.7950\n",
      "Epoch 2/20\n",
      "16/16 [==============================] - 0s 23ms/step - loss: 0.1076 - accuracy: 0.9574 - val_loss: 1.0811 - val_accuracy: 0.8030\n",
      "Epoch 3/20\n",
      "16/16 [==============================] - 0s 24ms/step - loss: 0.1072 - accuracy: 0.9569 - val_loss: 1.0962 - val_accuracy: 0.8020\n",
      "Epoch 4/20\n",
      "16/16 [==============================] - 0s 23ms/step - loss: 0.1013 - accuracy: 0.9575 - val_loss: 1.1120 - val_accuracy: 0.8040\n",
      "Epoch 5/20\n",
      "16/16 [==============================] - 0s 24ms/step - loss: 0.1031 - accuracy: 0.9590 - val_loss: 1.1434 - val_accuracy: 0.8020\n",
      "Epoch 6/20\n",
      "16/16 [==============================] - 0s 24ms/step - loss: 0.0995 - accuracy: 0.9573 - val_loss: 1.2919 - val_accuracy: 0.7810\n",
      "Epoch 7/20\n",
      "16/16 [==============================] - 0s 23ms/step - loss: 0.1000 - accuracy: 0.9583 - val_loss: 1.1461 - val_accuracy: 0.7950\n",
      "Epoch 8/20\n",
      "16/16 [==============================] - 0s 23ms/step - loss: 0.0982 - accuracy: 0.9580 - val_loss: 1.1889 - val_accuracy: 0.7940\n",
      "Epoch 9/20\n",
      "16/16 [==============================] - 0s 23ms/step - loss: 0.0960 - accuracy: 0.9592 - val_loss: 1.1444 - val_accuracy: 0.7900\n",
      "Epoch 10/20\n",
      "16/16 [==============================] - 0s 23ms/step - loss: 0.0934 - accuracy: 0.9582 - val_loss: 1.1725 - val_accuracy: 0.7970\n",
      "Epoch 11/20\n",
      "16/16 [==============================] - 0s 24ms/step - loss: 0.0960 - accuracy: 0.9579 - val_loss: 1.1609 - val_accuracy: 0.7960\n",
      "Epoch 12/20\n",
      "16/16 [==============================] - 0s 24ms/step - loss: 0.0943 - accuracy: 0.9588 - val_loss: 1.2419 - val_accuracy: 0.7860\n",
      "Epoch 13/20\n",
      "16/16 [==============================] - 0s 24ms/step - loss: 0.0995 - accuracy: 0.9574 - val_loss: 1.2183 - val_accuracy: 0.7970\n",
      "Epoch 14/20\n",
      "16/16 [==============================] - 0s 23ms/step - loss: 0.0860 - accuracy: 0.9598 - val_loss: 1.3374 - val_accuracy: 0.7820\n",
      "Epoch 15/20\n",
      "16/16 [==============================] - 0s 24ms/step - loss: 0.0959 - accuracy: 0.9572 - val_loss: 1.2334 - val_accuracy: 0.7920\n",
      "Epoch 16/20\n",
      "16/16 [==============================] - 0s 24ms/step - loss: 0.0892 - accuracy: 0.9600 - val_loss: 1.3165 - val_accuracy: 0.7890\n",
      "Epoch 17/20\n",
      "16/16 [==============================] - 0s 23ms/step - loss: 0.0904 - accuracy: 0.9607 - val_loss: 1.2451 - val_accuracy: 0.7940\n",
      "Epoch 18/20\n",
      "16/16 [==============================] - 0s 23ms/step - loss: 0.0891 - accuracy: 0.9577 - val_loss: 1.2742 - val_accuracy: 0.7820\n",
      "Epoch 19/20\n",
      "16/16 [==============================] - 0s 24ms/step - loss: 0.0948 - accuracy: 0.9575 - val_loss: 1.3008 - val_accuracy: 0.7860\n",
      "Epoch 20/20\n",
      "16/16 [==============================] - 0s 23ms/step - loss: 0.0849 - accuracy: 0.9589 - val_loss: 1.4506 - val_accuracy: 0.7640\n"
     ]
    }
   ],
   "source": [
    "history = model.fit(partial_x_train,partial_y_train, epochs=20, batch_size=512, validation_data=(x_val,y_val))"
   ]
  },
  {
   "cell_type": "code",
   "execution_count": 133,
   "metadata": {},
   "outputs": [],
   "source": [
    "history_dict = history.history"
   ]
  },
  {
   "cell_type": "code",
   "execution_count": 134,
   "metadata": {},
   "outputs": [
    {
     "name": "stdout",
     "output_type": "stream",
     "text": [
      "{'loss': [0.10918275266885757, 0.10758357495069504, 0.10720338672399521, 0.10132987797260284, 0.10313645005226135, 0.09948397427797318, 0.0999685525894165, 0.09816429764032364, 0.09598550200462341, 0.09341371804475784, 0.09602340310811996, 0.0942852720618248, 0.09952377527952194, 0.08603774756193161, 0.09588600695133209, 0.08921071141958237, 0.09044889360666275, 0.08911934494972229, 0.09481531381607056, 0.08489643782377243], 'accuracy': [0.9589075446128845, 0.9574041366577148, 0.9569030404090881, 0.9575294256210327, 0.9590328335762024, 0.957278847694397, 0.9582811594009399, 0.9580305814743042, 0.9591581225395203, 0.9581558704376221, 0.9579052925109863, 0.9587822556495667, 0.9574041366577148, 0.9597845077514648, 0.9571536183357239, 0.9600350856781006, 0.9606614708900452, 0.9576547145843506, 0.9575294256210327, 0.9589075446128845], 'val_loss': [1.0647000074386597, 1.0811347961425781, 1.0962073802947998, 1.1120364665985107, 1.1434009075164795, 1.2918649911880493, 1.1461071968078613, 1.1888775825500488, 1.1444289684295654, 1.1725226640701294, 1.1609177589416504, 1.241865873336792, 1.218258023262024, 1.3373808860778809, 1.2333625555038452, 1.316540002822876, 1.2450873851776123, 1.2742365598678589, 1.3008350133895874, 1.4505985975265503], 'val_accuracy': [0.7950000166893005, 0.8029999732971191, 0.8019999861717224, 0.8040000200271606, 0.8019999861717224, 0.781000018119812, 0.7950000166893005, 0.7940000295639038, 0.7900000214576721, 0.796999990940094, 0.7960000038146973, 0.7860000133514404, 0.796999990940094, 0.7820000052452087, 0.7919999957084656, 0.7889999747276306, 0.7940000295639038, 0.7820000052452087, 0.7860000133514404, 0.7639999985694885]}\n"
     ]
    }
   ],
   "source": [
    "print(history_dict)"
   ]
  },
  {
   "cell_type": "code",
   "execution_count": 135,
   "metadata": {},
   "outputs": [
    {
     "data": {
      "image/png": "[encoded data removed]",
      "text/plain": [
       "<Figure size 432x288 with 1 Axes>"
      ]
     },
     "metadata": {
      "needs_background": "light"
     },
     "output_type": "display_data"
    }
   ],
   "source": [
    "import matplotlib.pyplot as plt\n",
    "acc = history_dict['accuracy']\n",
    "val_acc = history_dict['val_accuracy']\n",
    "\n",
    "loss = history_dict['loss']\n",
    "val_loss = history_dict['val_loss']\n",
    "\n",
    "epochs = [i  for i in range(len(loss))]\n",
    "\n",
    "# \"bo\" is for \"blue dot\"\n",
    "plt.plot(epochs, acc, 'bo', label='Training accuracy')\n",
    "# b is for \"solid blue line\"\n",
    "plt.plot(epochs, val_acc, 'b', label='Validation accuracy')\n",
    "plt.title('Training and validation accuracy')\n",
    "plt.xlabel('Epochs')\n",
    "plt.ylabel('Loss')\n",
    "plt.legend()\n",
    "\n",
    "plt.show()\n"
   ]
  },
  {
   "cell_type": "code",
   "execution_count": 136,
   "metadata": {},
   "outputs": [
    {
     "data": {
      "image/png": "[encoded data removed]",
      "text/plain": [
       "<Figure size 432x288 with 1 Axes>"
      ]
     },
     "metadata": {
      "needs_background": "light"
     },
     "output_type": "display_data"
    }
   ],
   "source": [
    "import matplotlib.pyplot as plt\n",
    "acc = history_dict['accuracy']\n",
    "val_acc = history_dict['val_accuracy']\n",
    "\n",
    "loss = history_dict['loss']\n",
    "val_loss = history_dict['val_loss']\n",
    "\n",
    "epochs = [i  for i in range(len(loss))]\n",
    "\n",
    "\n",
    "# \"bo\" is for \"blue dot\"\n",
    "plt.plot(epochs, loss, 'bo', label='Training loss')\n",
    "# b is for \"solid blue line\"\n",
    "plt.plot(epochs, val_loss, 'b', label='Validation loss')\n",
    "plt.title('Training and validation loss')\n",
    "plt.xlabel('Epochs')\n",
    "plt.ylabel('Loss')\n",
    "plt.legend()\n",
    "\n",
    "plt.show()"
   ]
  },
  {
   "cell_type": "code",
   "execution_count": 137,
   "metadata": {},
   "outputs": [
    {
     "name": "stdout",
     "output_type": "stream",
     "text": [
      "71/71 [==============================] - 0s 2ms/step - loss: 1.6186 - accuracy: 0.7573\n"
     ]
    }
   ],
   "source": [
    "results = model.evaluate(x_test, one_hot_test_labels )"
   ]
  },
  {
   "cell_type": "code",
   "execution_count": 138,
   "metadata": {},
   "outputs": [
    {
     "data": {
      "text/plain": [
       "[1.6185632944107056, 0.7573463916778564]"
      ]
     },
     "execution_count": 138,
     "metadata": {},
     "output_type": "execute_result"
    }
   ],
   "source": [
    "results"
   ]
  },
  {
   "cell_type": "code",
   "execution_count": 139,
   "metadata": {},
   "outputs": [],
   "source": [
    "predictions = model.predict(x_test)"
   ]
  },
  {
   "cell_type": "code",
   "execution_count": null,
   "metadata": {},
   "outputs": [],
   "source": []
  }
 ],
 "metadata": {
  "interpreter": {
   "hash": "c0f70214c0dd213f07f54ee5d6e0ea644bdbba35113c9bfe8aaa0d1db03ad5dd"
  },
  "kernelspec": {
   "display_name": "Python 3.8.5 ('base')",
   "language": "python",
   "name": "python3"
  },
  "language_info": {
   "codemirror_mode": {
    "name": "ipython",
    "version": 3
   },
   "file_extension": ".py",
   "mimetype": "text/x-python",
   "name": "python",
   "nbconvert_exporter": "python",
   "pygments_lexer": "ipython3",
   "version": "3.8.5"
  },
  "orig_nbformat": 4
 },
 "nbformat": 4,
 "nbformat_minor": 2
}
